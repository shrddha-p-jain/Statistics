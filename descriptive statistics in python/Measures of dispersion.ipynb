{
 "cells": [
  {
   "cell_type": "markdown",
   "id": "6fe6c937",
   "metadata": {},
   "source": [
    "# Measures of Dispersion"
   ]
  },
  {
   "cell_type": "code",
   "execution_count": 1,
   "id": "75026fd7",
   "metadata": {},
   "outputs": [],
   "source": [
    "import numpy as np\n",
    "import pandas as pd\n",
    "from sklearn import datasets as dt\n",
    "import scipy.stats.mstats as sts"
   ]
  },
  {
   "cell_type": "code",
   "execution_count": 2,
   "id": "0ddb5104",
   "metadata": {},
   "outputs": [],
   "source": [
    "iris = dt.load_iris()\n",
    "df = pd.DataFrame(iris.data)\n",
    "df.columns = iris.feature_names\n",
    "feature = pd.DataFrame(iris.target)"
   ]
  },
  {
   "cell_type": "markdown",
   "id": "e494002f",
   "metadata": {},
   "source": [
    "### Standard deviation"
   ]
  },
  {
   "cell_type": "code",
   "execution_count": 3,
   "id": "59fe3d92",
   "metadata": {},
   "outputs": [
    {
     "data": {
      "text/plain": [
       "sepal length (cm)    0.828066\n",
       "sepal width (cm)     0.435866\n",
       "petal length (cm)    1.765298\n",
       "petal width (cm)     0.762238\n",
       "dtype: float64"
      ]
     },
     "execution_count": 3,
     "metadata": {},
     "output_type": "execute_result"
    }
   ],
   "source": [
    "df.std()"
   ]
  },
  {
   "cell_type": "markdown",
   "id": "3034f883",
   "metadata": {},
   "source": [
    "### Variance"
   ]
  },
  {
   "cell_type": "code",
   "execution_count": 4,
   "id": "8e9f2252",
   "metadata": {},
   "outputs": [
    {
     "data": {
      "text/plain": [
       "sepal length (cm)    0.685694\n",
       "sepal width (cm)     0.189979\n",
       "petal length (cm)    3.116278\n",
       "petal width (cm)     0.581006\n",
       "dtype: float64"
      ]
     },
     "execution_count": 4,
     "metadata": {},
     "output_type": "execute_result"
    }
   ],
   "source": [
    "df.var()"
   ]
  },
  {
   "cell_type": "markdown",
   "id": "395adb3e",
   "metadata": {},
   "source": [
    "### Coefficient of Variation"
   ]
  },
  {
   "cell_type": "code",
   "execution_count": 18,
   "id": "54018095",
   "metadata": {},
   "outputs": [],
   "source": [
    "from scipy.stats import variation"
   ]
  },
  {
   "cell_type": "code",
   "execution_count": 19,
   "id": "3110071e",
   "metadata": {},
   "outputs": [
    {
     "data": {
      "text/plain": [
       "array([0.1412381 , 0.14208819, 0.46817564, 0.63342909])"
      ]
     },
     "execution_count": 19,
     "metadata": {},
     "output_type": "execute_result"
    }
   ],
   "source": [
    "variation(df)"
   ]
  },
  {
   "cell_type": "markdown",
   "id": "a7879add",
   "metadata": {},
   "source": [
    "### Range"
   ]
  },
  {
   "cell_type": "code",
   "execution_count": 9,
   "id": "8f59fda0",
   "metadata": {},
   "outputs": [
    {
     "data": {
      "text/plain": [
       "sepal length (cm)    3.6\n",
       "sepal width (cm)     2.4\n",
       "petal length (cm)    5.9\n",
       "petal width (cm)     2.4\n",
       "dtype: float64"
      ]
     },
     "execution_count": 9,
     "metadata": {},
     "output_type": "execute_result"
    }
   ],
   "source": [
    "def range(df):\n",
    "    return df.max()-df.min()\n",
    "\n",
    "range(df)"
   ]
  },
  {
   "cell_type": "markdown",
   "id": "e18bc9c7",
   "metadata": {},
   "source": [
    "### Coefficent of range"
   ]
  },
  {
   "cell_type": "code",
   "execution_count": 10,
   "id": "ecac80ef",
   "metadata": {},
   "outputs": [],
   "source": [
    "def coef_range(df):\n",
    "    return (df.max()-df.min())/(df.max()+df.min())"
   ]
  },
  {
   "cell_type": "code",
   "execution_count": 11,
   "id": "e5ee4e99",
   "metadata": {},
   "outputs": [
    {
     "data": {
      "text/plain": [
       "sepal length (cm)    0.295082\n",
       "sepal width (cm)     0.375000\n",
       "petal length (cm)    0.746835\n",
       "petal width (cm)     0.923077\n",
       "dtype: float64"
      ]
     },
     "execution_count": 11,
     "metadata": {},
     "output_type": "execute_result"
    }
   ],
   "source": [
    "coef_range(df)"
   ]
  },
  {
   "cell_type": "markdown",
   "id": "ff77e6b1",
   "metadata": {},
   "source": [
    "### IQR"
   ]
  },
  {
   "cell_type": "code",
   "execution_count": 13,
   "id": "337d7f9f",
   "metadata": {},
   "outputs": [],
   "source": [
    "from scipy.stats import iqr"
   ]
  },
  {
   "cell_type": "code",
   "execution_count": 15,
   "id": "a3b81b92",
   "metadata": {},
   "outputs": [
    {
     "data": {
      "text/plain": [
       "1.3000000000000007"
      ]
     },
     "execution_count": 15,
     "metadata": {},
     "output_type": "execute_result"
    }
   ],
   "source": [
    "iqr(df['sepal length (cm)'])"
   ]
  },
  {
   "cell_type": "code",
   "execution_count": 16,
   "id": "248df96c",
   "metadata": {},
   "outputs": [
    {
     "data": {
      "text/plain": [
       "0.6500000000000004"
      ]
     },
     "execution_count": 16,
     "metadata": {},
     "output_type": "execute_result"
    }
   ],
   "source": [
    "## semi-iqr\n",
    "iqr(df['sepal length (cm)'])/2"
   ]
  },
  {
   "cell_type": "markdown",
   "id": "855dcd02",
   "metadata": {},
   "source": [
    "### Coefficient of Quartile deviation"
   ]
  },
  {
   "cell_type": "code",
   "execution_count": 17,
   "id": "f33d6b3f",
   "metadata": {},
   "outputs": [
    {
     "data": {
      "text/plain": [
       "sepal length (cm)    0.113043\n",
       "sepal width (cm)     0.081967\n",
       "petal length (cm)    0.522388\n",
       "petal width (cm)     0.714286\n",
       "dtype: float64"
      ]
     },
     "execution_count": 17,
     "metadata": {},
     "output_type": "execute_result"
    }
   ],
   "source": [
    "def coef_qd(df):\n",
    "    return (df.quantile(q=0.75)-df.quantile(q=0.25))/(df.quantile(q=0.75)+df.quantile(q=0.25))\n",
    "\n",
    "coef_qd(df)"
   ]
  },
  {
   "cell_type": "code",
   "execution_count": null,
   "id": "3569068c",
   "metadata": {},
   "outputs": [],
   "source": []
  }
 ],
 "metadata": {
  "kernelspec": {
   "display_name": "Python 3",
   "language": "python",
   "name": "python3"
  },
  "language_info": {
   "codemirror_mode": {
    "name": "ipython",
    "version": 3
   },
   "file_extension": ".py",
   "mimetype": "text/x-python",
   "name": "python",
   "nbconvert_exporter": "python",
   "pygments_lexer": "ipython3",
   "version": "3.8.8"
  }
 },
 "nbformat": 4,
 "nbformat_minor": 5
}
